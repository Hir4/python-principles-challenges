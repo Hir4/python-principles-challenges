{
  "cells": [
    {
      "cell_type": "markdown",
      "metadata": {
        "id": "chqDtfZ-01kT"
      },
      "source": [
        "# **Python Principles**\n",
        "\n",
        "### Python Programming Challenges\n",
        "\n",
        "You can find the challenges here: https://pythonprinciples.com/challenges"
      ]
    },
    {
      "cell_type": "code",
      "execution_count": null,
      "metadata": {
        "id": "LKXU5xHe1STN"
      },
      "outputs": [],
      "source": [
        "#Capital Indexes\n",
        "# Write a function named capital_indexes. The function takes a single parameter, \n",
        "# which is a string. Your function should return a list of all \n",
        "# the indexes in the string that have capital letters.\n",
        "# For example, calling capital_indexes(\"HeLlO\") should return the list [0, 2, 4].\n",
        "\n",
        "def capital_indexes(param):\n",
        "    capital_indexes_list = []\n",
        "    for letter in param:\n",
        "        if letter == letter.upper():\n",
        "            if param.index(letter) in capital_indexes_list:\n",
        "                    index_equal = param.index(letter, param.index(letter)) + 1\n",
        "                    print(index_equal)\n",
        "                    capital_indexes_list.append(param.index(letter, index_equal))\n",
        "            else:\n",
        "                capital_indexes_list.append(param.index(letter))\n",
        "    \n",
        "    print(capital_indexes_list)\n",
        "    return capital_indexes_list\n",
        "\n",
        "capital_indexes(\"HeLLO\")\n",
        "            "
      ]
    },
    {
      "cell_type": "code",
      "execution_count": null,
      "metadata": {
        "id": "BoEQznef18Sv"
      },
      "outputs": [],
      "source": [
        "# Middle letter\n",
        "# Write a function named mid that takes a string as its parameter. \n",
        "# Your function should extract and return the middle letter. \n",
        "# If there is no middle letter, your function should return the empty string.\n",
        "# For example, mid(\"abc\") should return \"b\" and mid(\"aaaa\") should return \"\".\n",
        "\n",
        "from math import floor\n",
        "\n",
        "def mid(param):\n",
        "    count_word = len(param)\n",
        "    if count_word%2 != 0:\n",
        "        print(param[floor(count_word/2)])\n",
        "        return(param[floor(count_word/2)])\n",
        "    else:\n",
        "        print(\"\")\n",
        "        return(\"\")\n",
        "        \n",
        "mid('acd')\n"
      ]
    },
    {
      "cell_type": "code",
      "execution_count": null,
      "metadata": {
        "id": "Vg528CGb2I81"
      },
      "outputs": [],
      "source": [
        "# Online status\n",
        "# The aim of this challenge is, given a dictionary of people's online status, \n",
        "# to count the number of people who are online.\n",
        "# For example, consider the following dictionary:\n",
        "# statuses = {\n",
        "#     \"Alice\": \"online\",\n",
        "#     \"Bob\": \"offline\",\n",
        "#     \"Eve\": \"online\",\n",
        "# }\n",
        "# In this case, the number of people online is 2.\n",
        "# Write a function named online_count that takes one parameter. \n",
        "# The parameter is a dictionary that maps from strings of names to the string \"online\" or \"offline\", as seen above.\n",
        "# Your function should return the number of people who are online.\n",
        "\n",
        "def online_count(param):\n",
        "    result=[]\n",
        "    for name, status in param.items():\n",
        "        if status == \"online\":\n",
        "            result.append((name,status))\n",
        "    print(len(result))\n",
        "    return len(result)\n",
        "    \n",
        "\n",
        "statuses = {\n",
        "    \"Alice\": \"online\",\n",
        "    \"Bob\": \"offline\",\n",
        "    \"Eve\": \"online\",\n",
        "}\n",
        "online_count(statuses)\n"
      ]
    },
    {
      "cell_type": "code",
      "execution_count": null,
      "metadata": {
        "id": "4AuuOSDa2Rx4"
      },
      "outputs": [],
      "source": [
        "# Randomness\n",
        "# Define a function, random_number, that takes no parameters. \n",
        "# The function must generate a random integer between 1 and 100, both inclusive, and return it.\n",
        "# Calling the function multiple times should (usually) return different numbers.\n",
        "# For example, calling random_number() some times might first return 42, then 63, then 1.\n",
        "\n",
        "from random import randint\n",
        "\n",
        "def random_number():\n",
        "    print(randint(0, 101))\n",
        "    return randint(0, 101)\n",
        "\n",
        "random_number()\n"
      ]
    },
    {
      "cell_type": "code",
      "execution_count": null,
      "metadata": {
        "id": "19X3RCKo2ajj"
      },
      "outputs": [],
      "source": [
        "# Type check\n",
        "# Write a function named only_ints that takes two parameters. \n",
        "# Your function should return True if both parameters are integers, and False otherwise.\n",
        "# For example, calling only_ints(1, 2) should return True, \n",
        "# while calling only_ints(\"a\", 1) should return False.\n",
        "\n",
        "def only_ints(int1, int2):\n",
        "    print(True if type(int1) == int and type(int2) == int else False)\n",
        "    return True if type(int1) == int and type(int2) == int else False\n",
        "\n",
        "only_ints('a', 2)\n"
      ]
    },
    {
      "cell_type": "code",
      "execution_count": null,
      "metadata": {
        "id": "90JOhtnb2iqu"
      },
      "outputs": [],
      "source": [
        "# Double letters\n",
        "# The goal of this challenge is to analyze a string to check if it \n",
        "# contains two of the same letter in a row. For example, \n",
        "# the string \"hello\" has l twice in a row, \n",
        "# while the string \"nono\" does not have two identical letters in a row.\n",
        "# Define a function named double_letters that takes a single parameter. \n",
        "# The parameter is a string. Your function must return True if \n",
        "# there are two identical letters in a row in the string, and False otherwise.\n",
        "\n",
        "def double_letters(string):\n",
        "    for i, l in enumerate(string):\n",
        "        if string[i] == string[i-1]:\n",
        "            print(True)\n",
        "            return True\n",
        "    print(False)\n",
        "    return False\n",
        "\n",
        "double_letters(\"on and off\")\n"
      ]
    },
    {
      "cell_type": "code",
      "execution_count": null,
      "metadata": {
        "id": "lTWaSvqM2p1X"
      },
      "outputs": [],
      "source": [
        "# Adding and removing dots\n",
        "# Write a function named add_dots that takes a string and adds \".\" \n",
        "# in between each letter. For example, \n",
        "# calling add_dots(\"test\") should return the string \"t.e.s.t\".\n",
        "# Then, below the add_dots function, write another function named \n",
        "# remove_dots that removes all dots from a string. For example, \n",
        "# calling remove_dots(\"t.e.s.t\") should return \"test\".\n",
        "# If both functions are correct, calling remove_dots(add_dots(string)) \n",
        "# should return back the original string for any string.\n",
        "# (You may assume that the input to add_dots does not itself contain any dots.)\n",
        "\n",
        "def add_dots(string):\n",
        "    new_string = \".\".join(list(string))\n",
        "    print(new_string)\n",
        "    remove_dots(new_string)\n",
        "    return new_string\n",
        "    \n",
        "def remove_dots(string):\n",
        "    string_wout_dots = string.replace('.', \"\")\n",
        "    print(string_wout_dots)\n",
        "    return string_wout_dots\n",
        "\n",
        "add_dots(\"xx\")\n"
      ]
    },
    {
      "cell_type": "code",
      "execution_count": null,
      "metadata": {
        "id": "8ONuhmXS2y6b"
      },
      "outputs": [],
      "source": [
        "# Counting syllables\n",
        "# Define a function named count that takes a single parameter. \n",
        "# The parameter is a string. The string will contain a single \n",
        "# word divided into syllables by hyphens, such as these:\n",
        "# \"ho-tel\"\n",
        "# \"cat\"\n",
        "# \"met-a-phor\"\n",
        "# \"ter-min-a-tor\"\n",
        "# Your function should count the number of syllables and return it.\n",
        "# For example, the call count(\"ho-tel\") should return 2.\n",
        "\n",
        "def count(string):\n",
        "    count=0\n",
        "    new_list = list(string)\n",
        "    for i in new_list:\n",
        "        if i == '-':\n",
        "            count+=1\n",
        "    print(count+1)\n",
        "    return count+1\n",
        "    \n",
        "count(\"ho-tel\")\n"
      ]
    },
    {
      "cell_type": "code",
      "execution_count": null,
      "metadata": {
        "id": "JyJ-bFdB29nr"
      },
      "outputs": [],
      "source": [
        "# Anagrams\n",
        "# Two strings are anagrams if you can make one from the other by rearranging the letters.\n",
        "# Write a function named is_anagram that takes two strings as its parameters. \n",
        "# Your function should return True if the strings are anagrams, and False otherwise.\n",
        "# For example, the call is_anagram(\"typhoon\", \"opython\") should return True \n",
        "# while the call is_anagram(\"Alice\", \"Bob\") should return False.\n",
        "\n",
        "def is_anagram(string1, string2):\n",
        "    return True if sorted(string1) == sorted(string2) else False\n",
        "        \n",
        "is_anagram(\"typhoon\", \"opython\")\n"
      ]
    },
    {
      "cell_type": "code",
      "execution_count": null,
      "metadata": {},
      "outputs": [],
      "source": [
        "# Flatten a list\n",
        "# Write a function that takes a list of lists and flattens it into a one-dimensional list.\n",
        "# Name your function flatten. It should take a single parameter and return a list.\n",
        "# For example, calling:\n",
        "# flatten([[1, 2], [3, 4]])\n",
        "# Should return the list:\n",
        "# [1, 2, 3, 4]\n",
        "\n",
        "def flatten(param):\n",
        "    result = []\n",
        "    for values in param:\n",
        "        result+=(values)\n",
        "    print(result)\n",
        "    return result\n",
        "\n",
        "flatten([[1, 2], [3, 4]])\n"
      ]
    },
    {
      "cell_type": "code",
      "execution_count": null,
      "metadata": {},
      "outputs": [],
      "source": [
        "# Min-maxing\n",
        "# Define a function named largest_difference that takes a list of numbers as its only parameter.\n",
        "# Your function should compute and return the difference between the largest and smallest number in the list.\n",
        "# For example, the call largest_difference([1, 2, 3]) should return 2 because 3 - 1 is 2.\n",
        "# You may assume that no numbers are smaller or larger than -100 and 100.\n",
        "\n",
        "def largest_difference(args):\n",
        "    print(max(args) - min(args))\n",
        "    return max(args) - min(args)\n",
        "\n",
        "largest_difference([1,2,3, -5])"
      ]
    },
    {
      "cell_type": "code",
      "execution_count": null,
      "metadata": {},
      "outputs": [],
      "source": [
        "# Divisible by 3\n",
        "# Define a function named div_3 that returns True if its single integer parameter is divisible by 3 and False otherwise.\n",
        "# For example, div_3(6) is True because 6/3 does not leave any remainder. \n",
        "# However div_3(5) is False because 5/3 leaves 2 as a remainder.\n",
        "\n",
        "def div_3(number):\n",
        "    if number%3 == 0:\n",
        "        return True\n",
        "    else:\n",
        "        return False\n",
        "    \n",
        "div_3(5)"
      ]
    },
    {
      "cell_type": "code",
      "execution_count": null,
      "metadata": {},
      "outputs": [],
      "source": [
        "# Tic tac toe input\n",
        "# Here's the backstory for this challenge: imagine you're writing a tic-tac-toe game, \n",
        "# where the board looks like this:\n",
        "# 1:  X | O | X\n",
        "#    -----------\n",
        "# 2:    |   |  \n",
        "#    -----------\n",
        "# 3:  O |   |\n",
        "\n",
        "#     A   B  C\n",
        "# The board is represented as a 2D list:\n",
        "# board = [\n",
        "#     [\"X\", \"O\", \"X\"],\n",
        "#     [\" \", \" \", \" \"],\n",
        "#     [\"O\", \" \", \" \"],\n",
        "# ]\n",
        "# Imagine if your user enters \"C1\" and you need to see if there's an X or O in that cell on the board.\n",
        "# To do so, you need to translate from the string \"C1\" to row 0 and column 2 so that you can check board[row][column].\n",
        "\n",
        "# Your task is to write a function that can translate from strings of length 2 to a tuple (row, column). \n",
        "# Name your function get_row_col; it should take a single parameter which is a string \n",
        "# of length 2 consisting of an uppercase letter and a digit.\n",
        "# For example, calling get_row_col(\"A3\") should return the tuple (2, 0) \n",
        "# because A3 corresponds to the row at index 2 and column at index 0in the board.\n",
        "\n",
        "def get_row_col(param):\n",
        "    string_to_tuple = {\n",
        "        \"A1\": (0,0),\n",
        "        \"A2\": (1,0),\n",
        "        \"A3\": (2,0),\n",
        "        \"B1\": (0,1),\n",
        "        \"B2\": (1,1),\n",
        "        \"B3\": (2,1),\n",
        "        \"C1\": (0,2),\n",
        "        \"C2\": (1,2),\n",
        "        \"C3\": (2,2)\n",
        "    }\n",
        "    \n",
        "    print(string_to_tuple.get(param))\n",
        "    return string_to_tuple.get(param)\n",
        "\n",
        "get_row_col(\"A3\")\n"
      ]
    },
    {
      "cell_type": "code",
      "execution_count": null,
      "metadata": {},
      "outputs": [],
      "source": [
        "# Palindrome\n",
        "# A string is a palindrome when it is the same when read backwards.\n",
        "# For example, the string \"bob\" is a palindrome. So is \"abba\". \n",
        "# But the string \"abcd\" is not a palindrome, because \"abcd\" != \"dcba\".\n",
        "# Write a function named palindrome that takes a single string as its parameter. \n",
        "# Your function should return True if the string is a palindrome, and False otherwise.\n",
        "\n",
        "def palindrome(param):\n",
        "    print(param[::-1])\n",
        "    return param == param[0:-1]\n",
        "palindrome(\"abcd\")\n"
      ]
    },
    {
      "cell_type": "code",
      "execution_count": null,
      "metadata": {},
      "outputs": [],
      "source": [
        "# Up and down\n",
        "# Define a function named up_down that takes a single number as its parameter. \n",
        "# Your function return a tuple containing two numbers; \n",
        "# the first should be one lower than the parameter, and the second should be one higher.\n",
        "# For example, calling up_down(5) should return (4, 6).\n",
        "\n",
        "def up_down(number):\n",
        "    print((number-1, number+1))\n",
        "    return (number-1, number+1)\n",
        "    \n",
        "up_down(2)\n"
      ]
    },
    {
      "cell_type": "code",
      "execution_count": null,
      "metadata": {},
      "outputs": [],
      "source": [
        "# Consecutive zeros\n",
        "# The goal of this challenge is to analyze a binary string consisting of only zeros and ones. \n",
        "# Your code should find the biggest number of consecutive zeros in the string. For example, given the string:\n",
        "# \"1001101000110\"\n",
        "# The biggest number of consecutive zeros is 3.\n",
        "# Define a function named consecutive_zeros that takes a single parameter, \n",
        "# which is the string of zeros and ones. Your function should return the number described above.\n",
        "\n",
        "def consecutive_zeros(param):\n",
        "    count = 0\n",
        "    result = []\n",
        "    for i in param:\n",
        "        if i == \"0\":\n",
        "            count+=1\n",
        "            result.append(count)\n",
        "        else:\n",
        "            result.append(count)\n",
        "            count = 0\n",
        "    print(max(result))\n",
        "    return max(result)\n",
        "    \n",
        "consecutive_zeros(\"1001101000110\")\n"
      ]
    },
    {
      "cell_type": "code",
      "execution_count": null,
      "metadata": {},
      "outputs": [],
      "source": [
        "# All equal\n",
        "# Define a function named all_equal that takes a list and checks whether all elements in the list are the same.\n",
        "# For example, calling all_equal([1, 1, 1]) should return True.\n",
        "\n",
        "def all_equal(args):\n",
        "    for i in args:\n",
        "        for r in args:\n",
        "            if i != r:\n",
        "                return False\n",
        "    return True\n",
        "         \n",
        "all_equal([1, 2, 1, 3, 1])\n"
      ]
    },
    {
      "cell_type": "code",
      "execution_count": null,
      "metadata": {},
      "outputs": [],
      "source": [
        "# Boolean and\n",
        "# Define a function named triple_and that takes three parameters \n",
        "# and returns True only if they are all True and False otherwise.\n",
        "\n",
        "def triple_and(param1, param2, param3):\n",
        "    return all([param1, param2, param3])\n",
        "\n",
        "triple_and(True, False, True)\n"
      ]
    },
    {
      "cell_type": "code",
      "execution_count": null,
      "metadata": {},
      "outputs": [],
      "source": [
        "# Writing short code\n",
        "# Define a function named convert that takes a list of numbers as its \n",
        "# only parameter and returns a list of each number converted to a string.\n",
        "# For example, the call convert([1, 2, 3]) should return [\"1\", \"2\", \"3\"].\n",
        "# What makes this tricky is that your function body must only contain a single line of code.\n",
        "\n",
        "def convert(numbers):\n",
        "    return([str(i) for i in numbers if type(i) is int])\n",
        "    \n",
        "convert([1,2,3])\n"
      ]
    },
    {
      "cell_type": "code",
      "execution_count": null,
      "metadata": {},
      "outputs": [],
      "source": [
        "# Custom zip\n",
        "# The built-in zip function \"zips\" two lists. Write your own implementation of this function.\n",
        "# Define a function named zap. The function takes two parameters, a and b. These are lists.\n",
        "# Your function should return a list of tuples. Each tuple should contain one item from the a list and one from b.\n",
        "# You may assume a and b have equal lengths.\n",
        "# If you don't get it, think of a zipper.\n",
        "# For example:\n",
        "# zap(\n",
        "#     [0, 1, 2, 3],\n",
        "#     [5, 6, 7, 8]\n",
        "# )\n",
        "# Should return:\n",
        "# [(0, 5),\n",
        "#  (1, 6),\n",
        "#  (2, 7),\n",
        "#  (3, 8)]\n",
        "\n",
        "def zap(a, b):\n",
        "    return [(a[i], b[i]) for i, e in enumerate(a)]\n",
        "\n",
        "zap(\n",
        "    [0, 0], [1, 2]\n",
        ")\n"
      ]
    },
    {
      "cell_type": "code",
      "execution_count": null,
      "metadata": {},
      "outputs": [],
      "source": [
        "# Solution validation\n",
        "# The aim of this challenge is to write code that can analyze code submissions. We'll simplify things a lot to not make this too hard.\n",
        "# Write a function named validate that takes code represented as a string as its only parameter.\n",
        "# Your function should check a few things:\n",
        "# the code must contain the def keyword\n",
        "# otherwise return \"missing def\"\n",
        "# the code must contain the : symbol\n",
        "# otherwise return \"missing :\"\n",
        "# the code must contain ( and ) for the parameter list\n",
        "# otherwise return \"missing paren\"\n",
        "# the code must not contain ()\n",
        "# otherwise return \"missing param\"\n",
        "# the code must contain four spaces for indentation\n",
        "# otherwise return \"missing indent\"\n",
        "# the code must contain validate\n",
        "# otherwise return \"wrong name\"\n",
        "# the code must contain a return statement\n",
        "# otherwise return \"missing return\"\n",
        "# If all these conditions are satisfied, your code should return True.\n",
        "# Here comes the twist: your solution must return True when validating itself.\n",
        "\n",
        "def validate(param):\n",
        "    if \"def\" not in param:\n",
        "        return \"missing def\"\n",
        "    elif \":\" not in param:\n",
        "        return \"missing :\"\n",
        "    elif \"(\" not in param or \")\" not in param:\n",
        "        return \"missing paren\"\n",
        "    elif \"(\" + \")\" in param:\n",
        "        return \"missing param\"\n",
        "    elif \"    \" not in param:\n",
        "        return \"missing indent\"\n",
        "    elif \"validate\" not in param:\n",
        "        return \"wrong name\"\n",
        "    elif \"return\" not in param:\n",
        "        return \"missing return\"\n",
        "    return True\n",
        "    "
      ]
    },
    {
      "cell_type": "code",
      "execution_count": null,
      "metadata": {},
      "outputs": [],
      "source": [
        "# List xor\n",
        "# Define a function named list_xor. Your function should take three parameters: n, list1 and list2.\n",
        "# Your function must return whether n is exclusively in list1 or list2.\n",
        "# In other words, if n is in both lists or in none of the lists, return False. If n is in only one of the lists, return True.\n",
        "# For example:\n",
        "# list_xor(1, [1, 2, 3], [4, 5, 6]) == True\n",
        "# list_xor(1, [0, 2, 3], [1, 5, 6]) == True\n",
        "# list_xor(1, [1, 2, 3], [1, 5, 6]) == False\n",
        "# list_xor(1, [0, 0, 0], [4, 5, 6]) == False\n",
        "\n",
        "def list_xor(n, list1, list2):\n",
        "    return (True if n in list1 and n not in list2 else False) or (True if n in list2 and n not in list1 else False)\n",
        "\n",
        "list_xor(1, [1, 2, 3], [4, 5, 6])\n"
      ]
    },
    {
      "cell_type": "code",
      "execution_count": null,
      "metadata": {},
      "outputs": [],
      "source": [
        "# Counting parameters\n",
        "# Define a function param_count that takes a variable number of parameters. \n",
        "# The function should return the number of arguments it was called with.\n",
        "# For example, param_count() should return 0, while param_count(2, 3, 4) should return 3.\n",
        "\n",
        "def param_count(*args):\n",
        "    return len(args)\n",
        "\n",
        "param_count(1,2,4,5,7)\n"
      ]
    },
    {
      "cell_type": "code",
      "execution_count": null,
      "metadata": {},
      "outputs": [],
      "source": [
        "# Thousands separator\n",
        "# Write a function named format_number that takes a non-negative number as its only parameter.\n",
        "# Your function should convert the number to a string and add commas as a thousands separator.\n",
        "# For example, calling format_number(1000000) should return \"1,000,000\".\n",
        "\n",
        "def format_number(number):\n",
        "    return \"{number_formated:,}\".format(number_formated = number)\n",
        "\n",
        "format_number(1000)"
      ]
    }
  ],
  "metadata": {
    "colab": {
      "provenance": []
    },
    "kernelspec": {
      "display_name": "Python 3",
      "name": "python3"
    },
    "language_info": {
      "name": "python"
    }
  },
  "nbformat": 4,
  "nbformat_minor": 0
}
