{
  "nbformat": 4,
  "nbformat_minor": 0,
  "metadata": {
    "colab": {
      "provenance": []
    },
    "kernelspec": {
      "name": "python3",
      "display_name": "Python 3"
    },
    "language_info": {
      "name": "python"
    }
  },
  "cells": [
    {
      "cell_type": "markdown",
      "source": [
        "# **Python Principles**\n",
        "\n",
        "### Python Programming Challenges\n",
        "\n",
        "You can find the challenges here: https://pythonprinciples.com/challenges"
      ],
      "metadata": {
        "id": "chqDtfZ-01kT"
      }
    },
    {
      "cell_type": "code",
      "source": [
        "#Capital Indexes\n",
        "# Write a function named capital_indexes. The function takes a single parameter, which is a string. Your function should return a list of all the indexes in the string that have capital letters.\n",
        "# For example, calling capital_indexes(\"HeLlO\") should return the list [0, 2, 4].\n",
        "\n",
        "def capital_indexes(param):\n",
        "    capital_indexes_list = []\n",
        "    for letter in param:\n",
        "        if letter == letter.upper():\n",
        "            if param.index(letter) in capital_indexes_list:\n",
        "                    index_equal = param.index(letter, param.index(letter)) + 1\n",
        "                    print(index_equal)\n",
        "                    capital_indexes_list.append(param.index(letter, index_equal))\n",
        "            else:\n",
        "                capital_indexes_list.append(param.index(letter))\n",
        "    \n",
        "    print(capital_indexes_list)\n",
        "    return capital_indexes_list\n",
        "\n",
        "capital_indexes(\"HeLLO\")\n",
        "            "
      ],
      "metadata": {
        "id": "LKXU5xHe1STN"
      },
      "execution_count": null,
      "outputs": []
    },
    {
      "cell_type": "code",
      "source": [
        "# Middle letter\n",
        "# Write a function named mid that takes a string as its parameter. Your function should extract and return the middle letter. If there is no middle letter, your function should return the empty string.\n",
        "# For example, mid(\"abc\") should return \"b\" and mid(\"aaaa\") should return \"\".\n",
        "\n",
        "from math import floor\n",
        "\n",
        "def mid(param):\n",
        "    count_word = len(param)\n",
        "    if count_word%2 != 0:\n",
        "        print(param[floor(count_word/2)])\n",
        "        return(param[floor(count_word/2)])\n",
        "    else:\n",
        "        print(\"\")\n",
        "        return(\"\")\n",
        "        \n",
        "mid('acd')\n"
      ],
      "metadata": {
        "id": "BoEQznef18Sv"
      },
      "execution_count": null,
      "outputs": []
    },
    {
      "cell_type": "code",
      "source": [
        "# Online status\n",
        "# The aim of this challenge is, given a dictionary of people's online status, to count the number of people who are online.\n",
        "# For example, consider the following dictionary:\n",
        "# statuses = {\n",
        "#     \"Alice\": \"online\",\n",
        "#     \"Bob\": \"offline\",\n",
        "#     \"Eve\": \"online\",\n",
        "# }\n",
        "# In this case, the number of people online is 2.\n",
        "# Write a function named online_count that takes one parameter. The parameter is a dictionary that maps from strings of names to the string \"online\" or \"offline\", as seen above.\n",
        "# Your function should return the number of people who are online.\n",
        "\n",
        "def online_count(param):\n",
        "    result=[]\n",
        "    for name, status in param.items():\n",
        "        if status == \"online\":\n",
        "            result.append((name,status))\n",
        "    print(len(result))\n",
        "    return len(result)\n",
        "    \n",
        "\n",
        "statuses = {\n",
        "    \"Alice\": \"online\",\n",
        "    \"Bob\": \"offline\",\n",
        "    \"Eve\": \"online\",\n",
        "}\n",
        "online_count(statuses)\n"
      ],
      "metadata": {
        "id": "Vg528CGb2I81"
      },
      "execution_count": null,
      "outputs": []
    },
    {
      "cell_type": "code",
      "source": [
        "# Randomness\n",
        "# Define a function, random_number, that takes no parameters. The function must generate a random integer between 1 and 100, both inclusive, and return it.\n",
        "# Calling the function multiple times should (usually) return different numbers.\n",
        "# For example, calling random_number() some times might first return 42, then 63, then 1.\n",
        "\n",
        "from random import randint\n",
        "\n",
        "def random_number():\n",
        "    print(randint(0, 101))\n",
        "    return randint(0, 101)\n",
        "\n",
        "random_number()\n"
      ],
      "metadata": {
        "id": "4AuuOSDa2Rx4"
      },
      "execution_count": null,
      "outputs": []
    },
    {
      "cell_type": "code",
      "source": [
        "# Type check\n",
        "# Write a function named only_ints that takes two parameters. Your function should return True if both parameters are integers, and False otherwise.\n",
        "# For example, calling only_ints(1, 2) should return True, while calling only_ints(\"a\", 1) should return False.\n",
        "\n",
        "def only_ints(int1, int2):\n",
        "    print(True if type(int1) == int and type(int2) == int else False)\n",
        "    return True if type(int1) == int and type(int2) == int else False\n",
        "\n",
        "only_ints('a', 2)\n"
      ],
      "metadata": {
        "id": "19X3RCKo2ajj"
      },
      "execution_count": null,
      "outputs": []
    },
    {
      "cell_type": "code",
      "source": [
        "# Double letters\n",
        "# The goal of this challenge is to analyze a string to check if it contains two of the same letter in a row. For example, the string \"hello\" has l twice in a row, while the string \"nono\" does not have two identical letters in a row.\n",
        "# Define a function named double_letters that takes a single parameter. The parameter is a string. Your function must return True if there are two identical letters in a row in the string, and False otherwise.\n",
        "\n",
        "def double_letters(string):\n",
        "    for i, l in enumerate(string):\n",
        "        if string[i] == string[i-1]:\n",
        "            print(True)\n",
        "            return True\n",
        "    print(False)\n",
        "    return False\n",
        "\n",
        "double_letters(\"on and off\")\n"
      ],
      "metadata": {
        "id": "90JOhtnb2iqu"
      },
      "execution_count": null,
      "outputs": []
    },
    {
      "cell_type": "code",
      "source": [
        "# Adding and removing dots\n",
        "# Write a function named add_dots that takes a string and adds \".\" in between each letter. For example, calling add_dots(\"test\") should return the string \"t.e.s.t\".\n",
        "# Then, below the add_dots function, write another function named remove_dots that removes all dots from a string. For example, calling remove_dots(\"t.e.s.t\") should return \"test\".\n",
        "# If both functions are correct, calling remove_dots(add_dots(string)) should return back the original string for any string.\n",
        "# (You may assume that the input to add_dots does not itself contain any dots.)\n",
        "\n",
        "def add_dots(string):\n",
        "    new_string = \".\".join(list(string))\n",
        "    print(new_string)\n",
        "    remove_dots(new_string)\n",
        "    return new_string\n",
        "    \n",
        "def remove_dots(string):\n",
        "    string_wout_dots = string.replace('.', \"\")\n",
        "    print(string_wout_dots)\n",
        "    return string_wout_dots\n",
        "\n",
        "add_dots(\"xx\")\n"
      ],
      "metadata": {
        "id": "lTWaSvqM2p1X"
      },
      "execution_count": null,
      "outputs": []
    },
    {
      "cell_type": "code",
      "source": [
        "# Counting syllables\n",
        "# Define a function named count that takes a single parameter. The parameter is a string. The string will contain a single word divided into syllables by hyphens, such as these:\n",
        "# \"ho-tel\"\n",
        "# \"cat\"\n",
        "# \"met-a-phor\"\n",
        "# \"ter-min-a-tor\"\n",
        "# Your function should count the number of syllables and return it.\n",
        "# For example, the call count(\"ho-tel\") should return 2.\n",
        "\n",
        "def count(string):\n",
        "    count=0\n",
        "    new_list = list(string)\n",
        "    for i in new_list:\n",
        "        if i == '-':\n",
        "            count+=1\n",
        "    print(count+1)\n",
        "    return count+1\n",
        "    \n",
        "count(\"ho-tel\")\n"
      ],
      "metadata": {
        "id": "8ONuhmXS2y6b"
      },
      "execution_count": null,
      "outputs": []
    },
    {
      "cell_type": "code",
      "source": [
        "# Anagrams\n",
        "# Two strings are anagrams if you can make one from the other by rearranging the letters.\n",
        "# Write a function named is_anagram that takes two strings as its parameters. Your function should return True if the strings are anagrams, and False otherwise.\n",
        "# For example, the call is_anagram(\"typhoon\", \"opython\") should return True while the call is_anagram(\"Alice\", \"Bob\") should return False.\n",
        "\n",
        "def is_anagram(string1, string2):\n",
        "    return True if sorted(string1) == sorted(string2) else False\n",
        "        \n",
        "is_anagram(\"typhoon\", \"opython\")\n"
      ],
      "metadata": {
        "id": "JyJ-bFdB29nr"
      },
      "execution_count": null,
      "outputs": []
    }
  ]
}